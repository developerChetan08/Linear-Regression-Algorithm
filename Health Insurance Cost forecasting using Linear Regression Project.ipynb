{
 "cells": [
  {
   "cell_type": "code",
   "execution_count": 1,
   "id": "25551955",
   "metadata": {},
   "outputs": [],
   "source": [
    "##Multipal Variables:- y = m1x1 + m2x2 + m3x3 + ..... + b"
   ]
  },
  {
   "cell_type": "code",
   "execution_count": 3,
   "id": "93ebd3a7",
   "metadata": {},
   "outputs": [],
   "source": [
    "import pandas as pd\n",
    "import numpy as np\n",
    "import seaborn as sns\n",
    "import matplotlib.pyplot as plt\n",
    "%matplotlib inline\n",
    "sns.set()"
   ]
  },
  {
   "cell_type": "code",
   "execution_count": 4,
   "id": "ad1282ab",
   "metadata": {},
   "outputs": [],
   "source": [
    "df =pd.read_csv('insurance.csv')"
   ]
  },
  {
   "cell_type": "code",
   "execution_count": 5,
   "id": "8391e1ad",
   "metadata": {},
   "outputs": [
    {
     "data": {
      "text/html": [
       "<div>\n",
       "<style scoped>\n",
       "    .dataframe tbody tr th:only-of-type {\n",
       "        vertical-align: middle;\n",
       "    }\n",
       "\n",
       "    .dataframe tbody tr th {\n",
       "        vertical-align: top;\n",
       "    }\n",
       "\n",
       "    .dataframe thead th {\n",
       "        text-align: right;\n",
       "    }\n",
       "</style>\n",
       "<table border=\"1\" class=\"dataframe\">\n",
       "  <thead>\n",
       "    <tr style=\"text-align: right;\">\n",
       "      <th></th>\n",
       "      <th>age</th>\n",
       "      <th>sex</th>\n",
       "      <th>bmi</th>\n",
       "      <th>children</th>\n",
       "      <th>smoker</th>\n",
       "      <th>region</th>\n",
       "      <th>charges</th>\n",
       "    </tr>\n",
       "  </thead>\n",
       "  <tbody>\n",
       "    <tr>\n",
       "      <th>0</th>\n",
       "      <td>19</td>\n",
       "      <td>female</td>\n",
       "      <td>27.900</td>\n",
       "      <td>0</td>\n",
       "      <td>yes</td>\n",
       "      <td>southwest</td>\n",
       "      <td>16884.92400</td>\n",
       "    </tr>\n",
       "    <tr>\n",
       "      <th>1</th>\n",
       "      <td>18</td>\n",
       "      <td>male</td>\n",
       "      <td>33.770</td>\n",
       "      <td>1</td>\n",
       "      <td>no</td>\n",
       "      <td>southeast</td>\n",
       "      <td>1725.55230</td>\n",
       "    </tr>\n",
       "    <tr>\n",
       "      <th>2</th>\n",
       "      <td>28</td>\n",
       "      <td>male</td>\n",
       "      <td>33.000</td>\n",
       "      <td>3</td>\n",
       "      <td>no</td>\n",
       "      <td>southeast</td>\n",
       "      <td>4449.46200</td>\n",
       "    </tr>\n",
       "    <tr>\n",
       "      <th>3</th>\n",
       "      <td>33</td>\n",
       "      <td>male</td>\n",
       "      <td>22.705</td>\n",
       "      <td>0</td>\n",
       "      <td>no</td>\n",
       "      <td>northwest</td>\n",
       "      <td>21984.47061</td>\n",
       "    </tr>\n",
       "    <tr>\n",
       "      <th>4</th>\n",
       "      <td>32</td>\n",
       "      <td>male</td>\n",
       "      <td>28.880</td>\n",
       "      <td>0</td>\n",
       "      <td>no</td>\n",
       "      <td>northwest</td>\n",
       "      <td>3866.85520</td>\n",
       "    </tr>\n",
       "  </tbody>\n",
       "</table>\n",
       "</div>"
      ],
      "text/plain": [
       "   age     sex     bmi  children smoker     region      charges\n",
       "0   19  female  27.900         0    yes  southwest  16884.92400\n",
       "1   18    male  33.770         1     no  southeast   1725.55230\n",
       "2   28    male  33.000         3     no  southeast   4449.46200\n",
       "3   33    male  22.705         0     no  northwest  21984.47061\n",
       "4   32    male  28.880         0     no  northwest   3866.85520"
      ]
     },
     "execution_count": 5,
     "metadata": {},
     "output_type": "execute_result"
    }
   ],
   "source": [
    "df.head(5)"
   ]
  },
  {
   "cell_type": "code",
   "execution_count": 6,
   "id": "072209d2",
   "metadata": {},
   "outputs": [
    {
     "name": "stdout",
     "output_type": "stream",
     "text": [
      "<class 'pandas.core.frame.DataFrame'>\n",
      "RangeIndex: 1338 entries, 0 to 1337\n",
      "Data columns (total 7 columns):\n",
      " #   Column    Non-Null Count  Dtype  \n",
      "---  ------    --------------  -----  \n",
      " 0   age       1338 non-null   int64  \n",
      " 1   sex       1338 non-null   object \n",
      " 2   bmi       1338 non-null   float64\n",
      " 3   children  1338 non-null   int64  \n",
      " 4   smoker    1338 non-null   object \n",
      " 5   region    1338 non-null   object \n",
      " 6   charges   1338 non-null   float64\n",
      "dtypes: float64(2), int64(2), object(3)\n",
      "memory usage: 73.3+ KB\n"
     ]
    }
   ],
   "source": [
    "df.info()"
   ]
  },
  {
   "cell_type": "code",
   "execution_count": 7,
   "id": "0ec0c1e1",
   "metadata": {},
   "outputs": [
    {
     "data": {
      "text/html": [
       "<div>\n",
       "<style scoped>\n",
       "    .dataframe tbody tr th:only-of-type {\n",
       "        vertical-align: middle;\n",
       "    }\n",
       "\n",
       "    .dataframe tbody tr th {\n",
       "        vertical-align: top;\n",
       "    }\n",
       "\n",
       "    .dataframe thead th {\n",
       "        text-align: right;\n",
       "    }\n",
       "</style>\n",
       "<table border=\"1\" class=\"dataframe\">\n",
       "  <thead>\n",
       "    <tr style=\"text-align: right;\">\n",
       "      <th></th>\n",
       "      <th>age</th>\n",
       "      <th>bmi</th>\n",
       "      <th>children</th>\n",
       "      <th>charges</th>\n",
       "    </tr>\n",
       "  </thead>\n",
       "  <tbody>\n",
       "    <tr>\n",
       "      <th>count</th>\n",
       "      <td>1338.000000</td>\n",
       "      <td>1338.000000</td>\n",
       "      <td>1338.000000</td>\n",
       "      <td>1338.000000</td>\n",
       "    </tr>\n",
       "    <tr>\n",
       "      <th>mean</th>\n",
       "      <td>39.207025</td>\n",
       "      <td>30.663397</td>\n",
       "      <td>1.094918</td>\n",
       "      <td>13270.422265</td>\n",
       "    </tr>\n",
       "    <tr>\n",
       "      <th>std</th>\n",
       "      <td>14.049960</td>\n",
       "      <td>6.098187</td>\n",
       "      <td>1.205493</td>\n",
       "      <td>12110.011237</td>\n",
       "    </tr>\n",
       "    <tr>\n",
       "      <th>min</th>\n",
       "      <td>18.000000</td>\n",
       "      <td>15.960000</td>\n",
       "      <td>0.000000</td>\n",
       "      <td>1121.873900</td>\n",
       "    </tr>\n",
       "    <tr>\n",
       "      <th>25%</th>\n",
       "      <td>27.000000</td>\n",
       "      <td>26.296250</td>\n",
       "      <td>0.000000</td>\n",
       "      <td>4740.287150</td>\n",
       "    </tr>\n",
       "    <tr>\n",
       "      <th>50%</th>\n",
       "      <td>39.000000</td>\n",
       "      <td>30.400000</td>\n",
       "      <td>1.000000</td>\n",
       "      <td>9382.033000</td>\n",
       "    </tr>\n",
       "    <tr>\n",
       "      <th>75%</th>\n",
       "      <td>51.000000</td>\n",
       "      <td>34.693750</td>\n",
       "      <td>2.000000</td>\n",
       "      <td>16639.912515</td>\n",
       "    </tr>\n",
       "    <tr>\n",
       "      <th>max</th>\n",
       "      <td>64.000000</td>\n",
       "      <td>53.130000</td>\n",
       "      <td>5.000000</td>\n",
       "      <td>63770.428010</td>\n",
       "    </tr>\n",
       "  </tbody>\n",
       "</table>\n",
       "</div>"
      ],
      "text/plain": [
       "               age          bmi     children       charges\n",
       "count  1338.000000  1338.000000  1338.000000   1338.000000\n",
       "mean     39.207025    30.663397     1.094918  13270.422265\n",
       "std      14.049960     6.098187     1.205493  12110.011237\n",
       "min      18.000000    15.960000     0.000000   1121.873900\n",
       "25%      27.000000    26.296250     0.000000   4740.287150\n",
       "50%      39.000000    30.400000     1.000000   9382.033000\n",
       "75%      51.000000    34.693750     2.000000  16639.912515\n",
       "max      64.000000    53.130000     5.000000  63770.428010"
      ]
     },
     "execution_count": 7,
     "metadata": {},
     "output_type": "execute_result"
    }
   ],
   "source": [
    "df.describe()"
   ]
  },
  {
   "cell_type": "code",
   "execution_count": 11,
   "id": "a66a2f95",
   "metadata": {},
   "outputs": [
    {
     "data": {
      "text/plain": [
       "age         0\n",
       "sex         0\n",
       "bmi         0\n",
       "children    0\n",
       "smoker      0\n",
       "region      0\n",
       "charges     0\n",
       "dtype: int64"
      ]
     },
     "execution_count": 11,
     "metadata": {},
     "output_type": "execute_result"
    }
   ],
   "source": [
    "df.isnull().sum()"
   ]
  },
  {
   "cell_type": "code",
   "execution_count": 9,
   "id": "db71f7a5",
   "metadata": {},
   "outputs": [
    {
     "name": "stderr",
     "output_type": "stream",
     "text": [
      "C:\\Users\\hp\\anaconda3\\lib\\site-packages\\seaborn\\_decorators.py:36: FutureWarning: Pass the following variable as a keyword arg: x. From version 0.12, the only valid positional argument will be `data`, and passing other arguments without an explicit keyword will result in an error or misinterpretation.\n",
      "  warnings.warn(\n"
     ]
    },
    {
     "data": {
      "text/plain": [
       "<AxesSubplot:xlabel='age'>"
      ]
     },
     "execution_count": 9,
     "metadata": {},
     "output_type": "execute_result"
    },
    {
     "data": {
      "image/png": "[encoded data removed]",
      "text/plain": [
       "<Figure size 640x480 with 1 Axes>"
      ]
     },
     "metadata": {},
     "output_type": "display_data"
    }
   ],
   "source": [
    "sns.boxplot(df['age'])"
   ]
  },
  {
   "cell_type": "code",
   "execution_count": 10,
   "id": "4a0b8be7",
   "metadata": {},
   "outputs": [
    {
     "name": "stderr",
     "output_type": "stream",
     "text": [
      "C:\\Users\\hp\\anaconda3\\lib\\site-packages\\seaborn\\_decorators.py:36: FutureWarning: Pass the following variable as a keyword arg: x. From version 0.12, the only valid positional argument will be `data`, and passing other arguments without an explicit keyword will result in an error or misinterpretation.\n",
      "  warnings.warn(\n"
     ]
    },
    {
     "data": {
      "text/plain": [
       "<AxesSubplot:xlabel='bmi'>"
      ]
     },
     "execution_count": 10,
     "metadata": {},
     "output_type": "execute_result"
    },
    {
     "data": {
      "image/png": "[encoded data removed]",
      "text/plain": [
       "<Figure size 640x480 with 1 Axes>"
      ]
     },
     "metadata": {},
     "output_type": "display_data"
    }
   ],
   "source": [
    "sns.boxplot(df['bmi'])"
   ]
  },
  {
   "cell_type": "code",
   "execution_count": 12,
   "id": "0796e50a",
   "metadata": {},
   "outputs": [
    {
     "name": "stderr",
     "output_type": "stream",
     "text": [
      "C:\\Users\\hp\\anaconda3\\lib\\site-packages\\seaborn\\_decorators.py:36: FutureWarning: Pass the following variable as a keyword arg: x. From version 0.12, the only valid positional argument will be `data`, and passing other arguments without an explicit keyword will result in an error or misinterpretation.\n",
      "  warnings.warn(\n"
     ]
    },
    {
     "data": {
      "text/plain": [
       "<AxesSubplot:xlabel='children'>"
      ]
     },
     "execution_count": 12,
     "metadata": {},
     "output_type": "execute_result"
    },
    {
     "data": {
      "image/png": "[encoded data removed]",
      "text/plain": [
       "<Figure size 640x480 with 1 Axes>"
      ]
     },
     "metadata": {},
     "output_type": "display_data"
    }
   ],
   "source": [
    "sns.boxplot(df['children'])"
   ]
  },
  {
   "cell_type": "code",
   "execution_count": 13,
   "id": "2154b9a3",
   "metadata": {},
   "outputs": [],
   "source": [
    "from sklearn.preprocessing import LabelEncoder\n",
    "le = LabelEncoder()"
   ]
  },
  {
   "cell_type": "code",
   "execution_count": 14,
   "id": "fc073222",
   "metadata": {},
   "outputs": [],
   "source": [
    "df['sex'] = le.fit_transform(df['sex'])"
   ]
  },
  {
   "cell_type": "code",
   "execution_count": 16,
   "id": "9d53749c",
   "metadata": {},
   "outputs": [],
   "source": [
    "df['smoker'] = le.fit_transform(df['smoker'])"
   ]
  },
  {
   "cell_type": "code",
   "execution_count": 17,
   "id": "ed9cb7de",
   "metadata": {},
   "outputs": [],
   "source": [
    "df['region'] = le.fit_transform(df['region'])"
   ]
  },
  {
   "cell_type": "code",
   "execution_count": 18,
   "id": "3f64b127",
   "metadata": {},
   "outputs": [
    {
     "data": {
      "text/plain": [
       "<AxesSubplot:>"
      ]
     },
     "execution_count": 18,
     "metadata": {},
     "output_type": "execute_result"
    },
    {
     "data": {
      "image/png": "[encoded data removed]",
      "text/plain": [
       "<Figure size 640x480 with 2 Axes>"
      ]
     },
     "metadata": {},
     "output_type": "display_data"
    }
   ],
   "source": [
    "sns.heatmap(df.corr(),annot=True)"
   ]
  },
  {
   "cell_type": "code",
   "execution_count": 19,
   "id": "4fe3dfb3",
   "metadata": {},
   "outputs": [],
   "source": [
    "from sklearn.linear_model import LinearRegression\n",
    "from sklearn.model_selection import train_test_split"
   ]
  },
  {
   "cell_type": "code",
   "execution_count": 21,
   "id": "2575d8a8",
   "metadata": {},
   "outputs": [],
   "source": [
    "x = df.drop(['charges'],axis=1) \n",
    "y = df['charges']"
   ]
  },
  {
   "cell_type": "code",
   "execution_count": 22,
   "id": "a71d4e78",
   "metadata": {},
   "outputs": [],
   "source": [
    "x_train,x_test,y_train,y_test = train_test_split(x,y,test_size=0.2,random_state=42)"
   ]
  },
  {
   "cell_type": "code",
   "execution_count": 23,
   "id": "71442388",
   "metadata": {},
   "outputs": [
    {
     "data": {
      "text/plain": [
       "LinearRegression()"
      ]
     },
     "execution_count": 23,
     "metadata": {},
     "output_type": "execute_result"
    }
   ],
   "source": [
    "reg = LinearRegression()\n",
    "reg.fit(x_train,y_train)"
   ]
  },
  {
   "cell_type": "code",
   "execution_count": 24,
   "id": "0bbc8b8d",
   "metadata": {},
   "outputs": [
    {
     "data": {
      "text/plain": [
       "array([ 8924.40724442,  7116.29501758, 36909.01352144,  9507.87469118,\n",
       "       27013.3500079 , 10790.77956153,   226.29844571, 16942.71599941,\n",
       "        1056.63079407, 11267.91997309, 28048.59793155,  9424.36324087,\n",
       "        5326.32232088, 38460.06017922, 40303.40597026, 37147.01010262,\n",
       "       15287.91876684, 35965.05485917,  9179.1753067 , 31510.8319849 ,\n",
       "        3797.79068365, 10070.82803304,  2312.57551348,  7074.41348194,\n",
       "       11352.37224357, 12907.77079523, 14448.84678727,  6205.65997921,\n",
       "        9917.00839638,  2239.50032819,  9060.55469043, 13120.56214535,\n",
       "        4617.70702822,  3467.91218926,  4402.74821855, 12967.91608907,\n",
       "        1927.44498944,  8757.9180081 , 33324.35180597, 32638.47697026,\n",
       "        3852.41756615,  4370.39670883, 14080.76023234, 11478.63402576,\n",
       "        8829.26135924, 12046.15119133,  5322.80515731,  3100.71182484,\n",
       "       35546.60547574,  9201.61196817, 15894.23763341,  2406.04003607,\n",
       "       12397.52052544,  1433.90617387, 13448.14094304, 12519.54174599,\n",
       "        4295.28664609, 32202.67982224, 13263.171278  , 12842.10998145,\n",
       "       14111.93665793, 10551.59361363, 16298.16745307,  7818.15570419,\n",
       "       11787.5726767 ,  4113.26897366, 26596.69895299, 10998.86488364,\n",
       "        2193.72748353,  6139.35587246, 10668.53569182, 11573.9066314 ,\n",
       "       11041.12265049,  9226.58405681, 12007.44404757,  6811.43260247,\n",
       "        7191.83534635, 10790.05517482,  6639.37239748,  8711.93118512,\n",
       "        3824.75581175, 36583.59532017,  6321.81241487, 30776.79577931,\n",
       "       34875.57159272, 35221.47920524,  7079.6173919 , 12906.65057781,\n",
       "        9989.1664665 , 14409.60808941, 17632.66059003, 35329.860348  ,\n",
       "       32980.23882829,  6136.20837946, 32051.98799937,  9422.40290935,\n",
       "       29504.90196714,  3732.73937642, 28359.80070947,  5779.65825838,\n",
       "        5456.76178371,  1827.69473369, 11549.90308087, 15012.88613485,\n",
       "       11657.94522782,  4363.64612857,  9957.82591489, 31781.66667504,\n",
       "        -129.15666671, 32890.39693986,  3219.18553916, 10224.50053069,\n",
       "       14265.38958083, 31584.36114122, 11409.59610007,  3867.75510966,\n",
       "       13059.64952969, 31756.32678896,  8214.15949009,  3287.68482341,\n",
       "        8383.13242816, 10636.53442336, 15157.79567852,  5702.50803854,\n",
       "        3836.57711344, 10272.53498033, 10956.58803242, 11071.81222693,\n",
       "       14496.65293874,  7476.92979541,  5450.7838718 ,  9288.29781036,\n",
       "        9399.10130723, 12476.31967945,  8278.36782145, 15269.65350487,\n",
       "        8352.0773264 , 31738.37507699, 35819.0919374 , 31547.64757647,\n",
       "        6063.62004331, 12551.29214568,  6068.87670979, 14599.41823771,\n",
       "        2561.45561332, 32910.51327403,  6315.23815745,  4979.52619562,\n",
       "       14384.66253028,  6884.14533684, 38706.08936188,  3136.57875731,\n",
       "        5933.09672913, 31625.64350684, 11596.31482335,  8417.73814018,\n",
       "       14754.03399782,  9879.46313846, 27160.43717287, 33395.00044119,\n",
       "       14499.08558691,  1735.96411757, 13118.53913261,  2176.90038413,\n",
       "        5388.3723652 , 11622.93526416, 39740.86555088, 36545.08554993,\n",
       "       33944.7368711 ,  3840.12640295,  7412.53476742,  8602.72483011,\n",
       "       12382.55575653,  4865.6463079 ,  1994.45684083, 32178.79507351,\n",
       "       25053.78358388, 17536.06907271, 26471.06879885, 10217.73115571,\n",
       "       37210.3346986 ,  -477.16780371,  6841.29733603,  7720.38130108,\n",
       "        4324.62825932,  5148.0933114 ,  5866.88847075,  4252.37584458,\n",
       "       15235.17791982, 11184.09152901,  6865.81092558,  2473.47336319,\n",
       "        1492.04619416, 31876.36248207, 16467.91708528, 12070.84318949,\n",
       "        1321.2739762 , 12481.98404136,  1516.49611385,  8688.35998638,\n",
       "        1929.99456629, 33965.04310923, 10902.16179703,  2652.65198314,\n",
       "       25737.23494393, 26409.75401731,  9484.12006941,  1858.05146312,\n",
       "       13312.36096237,  1075.29369445, 10343.96143124, 10640.16353845,\n",
       "       16869.18074438, 26909.56154116,  7008.93073183,  5143.45838554,\n",
       "        5911.31580735, 13297.21771797, 11170.92069347,  8419.97039114,\n",
       "        5174.40556158, 12343.87783448, 13902.30234269, 35823.29733596,\n",
       "        4200.49918603, 28974.98455685,  -959.29164157,  2918.94252879,\n",
       "       11110.5125204 , 15731.80607464,  5263.76292369,  6952.83452504,\n",
       "        3804.57987076, 31256.71206045,  7305.58851362, 12461.33830574,\n",
       "        5664.21701114,  9467.26109398, 36360.68777321,  4486.61219507,\n",
       "        9633.32288878, 31093.62476199,  5787.94047478,  4665.96142198,\n",
       "        1100.68575505,  4877.83258252,  4521.289931  ,  6448.7580369 ,\n",
       "       18700.99259398, -1483.15281815,  2319.79804103, 10631.36072374,\n",
       "        3100.2784844 , 10170.02300527,  3777.51558282,  5184.56040253,\n",
       "       12348.21008641,  6259.90128781,  8190.47916435,  7537.06854145,\n",
       "        8973.20505699, 10544.17289411, 27868.40112099, 39116.96866869,\n",
       "       11814.55556842,  7638.1077356 , 40959.08172164, 12258.22852853])"
      ]
     },
     "execution_count": 24,
     "metadata": {},
     "output_type": "execute_result"
    }
   ],
   "source": [
    "y_pred = reg.predict(x_test)\n",
    "y_pred"
   ]
  },
  {
   "cell_type": "code",
   "execution_count": 25,
   "id": "3ebadf94",
   "metadata": {},
   "outputs": [],
   "source": [
    "from sklearn.metrics import r2_score"
   ]
  },
  {
   "cell_type": "code",
   "execution_count": 26,
   "id": "4654de3f",
   "metadata": {},
   "outputs": [
    {
     "data": {
      "text/plain": [
       "0.7833463107364539"
      ]
     },
     "execution_count": 26,
     "metadata": {},
     "output_type": "execute_result"
    }
   ],
   "source": [
    "r2_score(y_test,y_pred)"
   ]
  },
  {
   "cell_type": "code",
   "execution_count": null,
   "id": "56f00d54",
   "metadata": {},
   "outputs": [],
   "source": []
  }
 ],
 "metadata": {
  "kernelspec": {
   "display_name": "Python 3 (ipykernel)",
   "language": "python",
   "name": "python3"
  },
  "language_info": {
   "codemirror_mode": {
    "name": "ipython",
    "version": 3
   },
   "file_extension": ".py",
   "mimetype": "text/x-python",
   "name": "python",
   "nbconvert_exporter": "python",
   "pygments_lexer": "ipython3",
   "version": "3.9.13"
  }
 },
 "nbformat": 4,
 "nbformat_minor": 5
}
